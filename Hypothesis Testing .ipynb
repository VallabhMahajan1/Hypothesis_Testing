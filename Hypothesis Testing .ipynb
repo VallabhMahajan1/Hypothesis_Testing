{
 "cells": [
  {
   "cell_type": "code",
   "execution_count": 1,
   "metadata": {},
   "outputs": [],
   "source": [
    "import pandas as pd\n",
    "import numpy as np\n",
    "import matplotlib.pyplot as plt\n",
    "%matplotlib inline"
   ]
  },
  {
   "cell_type": "code",
   "execution_count": 2,
   "metadata": {},
   "outputs": [],
   "source": [
    "startupData = pd.read_csv('50_Startups.csv')"
   ]
  },
  {
   "cell_type": "markdown",
   "metadata": {},
   "source": [
    "### 1. Correlation Test\n"
   ]
  },
  {
   "cell_type": "markdown",
   "metadata": {},
   "source": [
    "#### 1. Pearson's Correlation Test\n",
    "Question 1: Lets Test whether R&DSpend and Profit have a linear Relationship or not?\n",
    "Hypothesis Testing for Question 1:\n",
    "\n",
    "- Null Hypothesis (H0) = R&D Spend and Profit has no linear relationship\n",
    "- Alternate Hypothesis (H1) = R&DSpend and Profit has linear relationship\n",
    "\n",
    "Which Test to perform?\n",
    "- Pearson's Correlation Test\n",
    "\n",
    "What Significance Level(How much errors you can tolerate) you are looking for?\n",
    "<br />Ideally most of the statistician follow the below 3 rules:\n",
    "1. 0.01 error (1% error)\n",
    "2. 0.05 error (5% error) (Practically considered ideal value for SL)\n",
    "3. 0.1 error  (10% error)\n",
    "- In the world of Statistics , Significance Level is denoted by 'p-value'.\n",
    "\n",
    "Things that you must be aware of?\n",
    "1. Identify which test you will perform\n",
    "2. Create Null and Alternate Hypothesis\n",
    "3. Set p-value\n",
    "4. Perform test"
   ]
  },
  {
   "cell_type": "code",
   "execution_count": 3,
   "metadata": {},
   "outputs": [
    {
     "name": "stdout",
     "output_type": "stream",
     "text": [
      "0.9729004656594831\n",
      "3.5003222436906035e-32\n",
      "Confidence Level : 100.0 %\n",
      "Alternate Hypothesis (H1) - Administration and Profit has linear relationship\n"
     ]
    }
   ],
   "source": [
    "#Scipy ---> Scientific Python ---> All formulaes related to math and stats to be applied\n",
    "#Acceptable p-value for my hypothesis is 0.05\n",
    "from scipy.stats import pearsonr\n",
    "correlation,pvalue = pearsonr(startupData['R&D Spend'] , startupData['Profit'])\n",
    "print(correlation)\n",
    "print(pvalue)\n",
    "print(\"Confidence Level : {} %\".format(((1- pvalue)*100)))\n",
    "if pvalue <= 0.05:\n",
    "    print(\"Alternate Hypothesis (H1) - Administration and Profit has linear relationship\")\n",
    "else:\n",
    "    print(\"Null Hypothesis (H0)- Administration and Profit has no linear relationship\")"
   ]
  },
  {
   "cell_type": "code",
   "execution_count": 5,
   "metadata": {},
   "outputs": [
    {
     "name": "stdout",
     "output_type": "stream",
     "text": [
      "+ive correlation between R&D Spend and Profit\n"
     ]
    }
   ],
   "source": [
    "correlation,pvalue = pearsonr(startupData['R&D Spend'], startupData['Profit'])\n",
    "if pvalue <= 0.05:\n",
    "    print(\"+ive correlation between R&D Spend and Profit\")\n",
    "else:\n",
    "    print(\"-ive correlation between R&D Spend and Profit\")"
   ]
  },
  {
   "cell_type": "code",
   "execution_count": null,
   "metadata": {},
   "outputs": [],
   "source": []
  },
  {
   "cell_type": "code",
   "execution_count": 4,
   "metadata": {},
   "outputs": [
    {
     "data": {
      "text/plain": [
       "<matplotlib.collections.PathCollection at 0x1b6ee3ff9e8>"
      ]
     },
     "execution_count": 4,
     "metadata": {},
     "output_type": "execute_result"
    },
    {
     "data": {
      "image/png": "[encoded data removed]",
      "text/plain": [
       "<Figure size 432x288 with 1 Axes>"
      ]
     },
     "metadata": {
      "needs_background": "light"
     },
     "output_type": "display_data"
    }
   ],
   "source": [
    "#Do the remaining correlation test for Marketing and Administration\n",
    "plt.scatter(startupData['R&D Spend'] , startupData['Profit'])"
   ]
  },
  {
   "cell_type": "markdown",
   "metadata": {},
   "source": [
    "Question 1: Lets Test whether R&DSpend and Profit have a linear Relationship or not?\n",
    "Hypothesis Testing for Question 1:\n",
    "\n",
    "- Null Hypothesis (H0) = R&D Spend and Profit has no monotonic relationship\n",
    "- Alternate Hypothesis (H1) = R&DSpend and Profit has monotonic relationship\n",
    "\n",
    "Which Test to perform?\n",
    "- Spearman's Rank Test\n",
    "\n",
    "What Significance Level(How much errors you can tolerate) you are looking for?\n",
    "<br />Ideally most of the statistician follow the below 3 rules:\n",
    "1. 0.01 error (1% error)\n",
    "2. 0.05 error (5% error) (Practically considered ideal value for SL)\n",
    "3. 0.1 error  (10% error)\n",
    "- In the world of Statistics , Significance Level is denoted by 'p-value'.\n",
    "\n",
    "Things that you must be aware of?\n",
    "1. Identify which test you will perform\n",
    "2. Create Null and Alternate Hypothesis\n",
    "3. Set p-value as 0.05\n",
    "4. Perform test"
   ]
  },
  {
   "cell_type": "code",
   "execution_count": 23,
   "metadata": {},
   "outputs": [
    {
     "name": "stdout",
     "output_type": "stream",
     "text": [
      "0.9898436940114568\n",
      "2.4924463031107535e-42\n",
      "Confidence Level : 100.0 %\n",
      "Alternate Hypothesis (H1) - R&DSpend and Profit has monotonic relationship\n"
     ]
    }
   ],
   "source": [
    "#Spearmans Rank Test\n",
    "from scipy.stats import spearmanr\n",
    "correlation,pvalue = spearmanr(startupData['R&D Spend'] , startupData['Profit'])\n",
    "print(correlation)\n",
    "print(pvalue)\n",
    "print(\"Confidence Level : {} %\".format(((1- pvalue)*100)))\n",
    "if pvalue <= 0.05:\n",
    "    print(\"Alternate Hypothesis (H1) - R&DSpend and Profit has monotonic relationship\")\n",
    "else:\n",
    "    print(\"Null Hypothesis (H0)- R&D Spend and Profit has no monotonic relationship\")"
   ]
  },
  {
   "cell_type": "code",
   "execution_count": 24,
   "metadata": {},
   "outputs": [
    {
     "name": "stdout",
     "output_type": "stream",
     "text": [
      "0.9342589590620481\n",
      "1.0718305105857118e-21\n",
      "Confidence Level : 100.0 %\n",
      "Alternate Hypothesis (H1) - R&DSpend and Profit has monotonic relationship\n"
     ]
    }
   ],
   "source": [
    "#Kendall's Rank Test\n",
    "from scipy.stats import kendalltau\n",
    "correlation,pvalue = kendalltau(startupData['R&D Spend'] , startupData['Profit'])\n",
    "print(correlation)\n",
    "print(pvalue)\n",
    "print(\"Confidence Level : {} %\".format(((1- pvalue)*100)))\n",
    "if pvalue <= 0.05:\n",
    "    print(\"Alternate Hypothesis (H1) - R&DSpend and Profit has monotonic relationship\")\n",
    "else:\n",
    "    print(\"Null Hypothesis (H0)- R&D Spend and Profit has no monotonic relationship\")"
   ]
  },
  {
   "cell_type": "markdown",
   "metadata": {},
   "source": [
    "# Chi-square Test"
   ]
  },
  {
   "cell_type": "code",
   "execution_count": 15,
   "metadata": {},
   "outputs": [
    {
     "name": "stdout",
     "output_type": "stream",
     "text": [
      "Null Hypothesis(H0): State and Profit are independent of each other.\n",
      "Confidence Level : 57.513332179723406 %\n"
     ]
    }
   ],
   "source": [
    "contigency_table = pd.crosstab(startupData['State'],startupData['Profit'])\n",
    "\n",
    "from scipy.stats import chi2_contingency\n",
    "stat, p, dof, expected = chi2_contingency(contigency_table)\n",
    "if p <= 0.05:\n",
    "    print(\"Alternate Hypothesis (H1): State and Profit have some form of relationship.\")\n",
    "else:\n",
    "    print(\"Null Hypothesis(H0): State and Profit are independent of each other.\")\n",
    "print(\"Confidence Level : {} %\".format(((1- p)*100)))"
   ]
  },
  {
   "cell_type": "markdown",
   "metadata": {},
   "source": [
    "# Normality Test "
   ]
  },
  {
   "cell_type": "code",
   "execution_count": 7,
   "metadata": {},
   "outputs": [
    {
     "data": {
      "text/html": [
       "<div>\n",
       "<style scoped>\n",
       "    .dataframe tbody tr th:only-of-type {\n",
       "        vertical-align: middle;\n",
       "    }\n",
       "\n",
       "    .dataframe tbody tr th {\n",
       "        vertical-align: top;\n",
       "    }\n",
       "\n",
       "    .dataframe thead th {\n",
       "        text-align: right;\n",
       "    }\n",
       "</style>\n",
       "<table border=\"1\" class=\"dataframe\">\n",
       "  <thead>\n",
       "    <tr style=\"text-align: right;\">\n",
       "      <th></th>\n",
       "      <th>R&amp;D Spend</th>\n",
       "      <th>Administration</th>\n",
       "      <th>Marketing Spend</th>\n",
       "      <th>State</th>\n",
       "      <th>Profit</th>\n",
       "    </tr>\n",
       "  </thead>\n",
       "  <tbody>\n",
       "    <tr>\n",
       "      <th>0</th>\n",
       "      <td>165349.20</td>\n",
       "      <td>136897.80</td>\n",
       "      <td>471784.10</td>\n",
       "      <td>New York</td>\n",
       "      <td>192261.83</td>\n",
       "    </tr>\n",
       "    <tr>\n",
       "      <th>1</th>\n",
       "      <td>162597.70</td>\n",
       "      <td>151377.59</td>\n",
       "      <td>443898.53</td>\n",
       "      <td>California</td>\n",
       "      <td>191792.06</td>\n",
       "    </tr>\n",
       "    <tr>\n",
       "      <th>2</th>\n",
       "      <td>153441.51</td>\n",
       "      <td>101145.55</td>\n",
       "      <td>407934.54</td>\n",
       "      <td>Florida</td>\n",
       "      <td>191050.39</td>\n",
       "    </tr>\n",
       "    <tr>\n",
       "      <th>3</th>\n",
       "      <td>144372.41</td>\n",
       "      <td>118671.85</td>\n",
       "      <td>383199.62</td>\n",
       "      <td>New York</td>\n",
       "      <td>182901.99</td>\n",
       "    </tr>\n",
       "    <tr>\n",
       "      <th>4</th>\n",
       "      <td>142107.34</td>\n",
       "      <td>91391.77</td>\n",
       "      <td>366168.42</td>\n",
       "      <td>Florida</td>\n",
       "      <td>166187.94</td>\n",
       "    </tr>\n",
       "    <tr>\n",
       "      <th>5</th>\n",
       "      <td>131876.90</td>\n",
       "      <td>99814.71</td>\n",
       "      <td>362861.36</td>\n",
       "      <td>New York</td>\n",
       "      <td>156991.12</td>\n",
       "    </tr>\n",
       "    <tr>\n",
       "      <th>6</th>\n",
       "      <td>134615.46</td>\n",
       "      <td>147198.87</td>\n",
       "      <td>127716.82</td>\n",
       "      <td>California</td>\n",
       "      <td>156122.51</td>\n",
       "    </tr>\n",
       "    <tr>\n",
       "      <th>7</th>\n",
       "      <td>130298.13</td>\n",
       "      <td>145530.06</td>\n",
       "      <td>323876.68</td>\n",
       "      <td>Florida</td>\n",
       "      <td>155752.60</td>\n",
       "    </tr>\n",
       "    <tr>\n",
       "      <th>8</th>\n",
       "      <td>120542.52</td>\n",
       "      <td>148718.95</td>\n",
       "      <td>311613.29</td>\n",
       "      <td>New York</td>\n",
       "      <td>152211.77</td>\n",
       "    </tr>\n",
       "    <tr>\n",
       "      <th>9</th>\n",
       "      <td>123334.88</td>\n",
       "      <td>108679.17</td>\n",
       "      <td>304981.62</td>\n",
       "      <td>California</td>\n",
       "      <td>149759.96</td>\n",
       "    </tr>\n",
       "    <tr>\n",
       "      <th>10</th>\n",
       "      <td>101913.08</td>\n",
       "      <td>110594.11</td>\n",
       "      <td>229160.95</td>\n",
       "      <td>Florida</td>\n",
       "      <td>146121.95</td>\n",
       "    </tr>\n",
       "    <tr>\n",
       "      <th>11</th>\n",
       "      <td>100671.96</td>\n",
       "      <td>91790.61</td>\n",
       "      <td>249744.55</td>\n",
       "      <td>California</td>\n",
       "      <td>144259.40</td>\n",
       "    </tr>\n",
       "    <tr>\n",
       "      <th>12</th>\n",
       "      <td>93863.75</td>\n",
       "      <td>127320.38</td>\n",
       "      <td>249839.44</td>\n",
       "      <td>Florida</td>\n",
       "      <td>141585.52</td>\n",
       "    </tr>\n",
       "    <tr>\n",
       "      <th>13</th>\n",
       "      <td>91992.39</td>\n",
       "      <td>135495.07</td>\n",
       "      <td>252664.93</td>\n",
       "      <td>California</td>\n",
       "      <td>134307.35</td>\n",
       "    </tr>\n",
       "    <tr>\n",
       "      <th>14</th>\n",
       "      <td>119943.24</td>\n",
       "      <td>156547.42</td>\n",
       "      <td>256512.92</td>\n",
       "      <td>Florida</td>\n",
       "      <td>132602.65</td>\n",
       "    </tr>\n",
       "    <tr>\n",
       "      <th>15</th>\n",
       "      <td>114523.61</td>\n",
       "      <td>122616.84</td>\n",
       "      <td>261776.23</td>\n",
       "      <td>New York</td>\n",
       "      <td>129917.04</td>\n",
       "    </tr>\n",
       "    <tr>\n",
       "      <th>16</th>\n",
       "      <td>78013.11</td>\n",
       "      <td>121597.55</td>\n",
       "      <td>264346.06</td>\n",
       "      <td>California</td>\n",
       "      <td>126992.93</td>\n",
       "    </tr>\n",
       "    <tr>\n",
       "      <th>17</th>\n",
       "      <td>94657.16</td>\n",
       "      <td>145077.58</td>\n",
       "      <td>282574.31</td>\n",
       "      <td>New York</td>\n",
       "      <td>125370.37</td>\n",
       "    </tr>\n",
       "    <tr>\n",
       "      <th>18</th>\n",
       "      <td>91749.16</td>\n",
       "      <td>114175.79</td>\n",
       "      <td>294919.57</td>\n",
       "      <td>Florida</td>\n",
       "      <td>124266.90</td>\n",
       "    </tr>\n",
       "    <tr>\n",
       "      <th>19</th>\n",
       "      <td>86419.70</td>\n",
       "      <td>153514.11</td>\n",
       "      <td>0.00</td>\n",
       "      <td>New York</td>\n",
       "      <td>122776.86</td>\n",
       "    </tr>\n",
       "    <tr>\n",
       "      <th>20</th>\n",
       "      <td>76253.86</td>\n",
       "      <td>113867.30</td>\n",
       "      <td>298664.47</td>\n",
       "      <td>California</td>\n",
       "      <td>118474.03</td>\n",
       "    </tr>\n",
       "    <tr>\n",
       "      <th>21</th>\n",
       "      <td>78389.47</td>\n",
       "      <td>153773.43</td>\n",
       "      <td>299737.29</td>\n",
       "      <td>New York</td>\n",
       "      <td>111313.02</td>\n",
       "    </tr>\n",
       "    <tr>\n",
       "      <th>22</th>\n",
       "      <td>73994.56</td>\n",
       "      <td>122782.75</td>\n",
       "      <td>303319.26</td>\n",
       "      <td>Florida</td>\n",
       "      <td>110352.25</td>\n",
       "    </tr>\n",
       "    <tr>\n",
       "      <th>23</th>\n",
       "      <td>67532.53</td>\n",
       "      <td>105751.03</td>\n",
       "      <td>304768.73</td>\n",
       "      <td>Florida</td>\n",
       "      <td>108733.99</td>\n",
       "    </tr>\n",
       "    <tr>\n",
       "      <th>24</th>\n",
       "      <td>77044.01</td>\n",
       "      <td>99281.34</td>\n",
       "      <td>140574.81</td>\n",
       "      <td>New York</td>\n",
       "      <td>108552.04</td>\n",
       "    </tr>\n",
       "    <tr>\n",
       "      <th>25</th>\n",
       "      <td>64664.71</td>\n",
       "      <td>139553.16</td>\n",
       "      <td>137962.62</td>\n",
       "      <td>California</td>\n",
       "      <td>107404.34</td>\n",
       "    </tr>\n",
       "    <tr>\n",
       "      <th>26</th>\n",
       "      <td>75328.87</td>\n",
       "      <td>144135.98</td>\n",
       "      <td>134050.07</td>\n",
       "      <td>Florida</td>\n",
       "      <td>105733.54</td>\n",
       "    </tr>\n",
       "    <tr>\n",
       "      <th>27</th>\n",
       "      <td>72107.60</td>\n",
       "      <td>127864.55</td>\n",
       "      <td>353183.81</td>\n",
       "      <td>New York</td>\n",
       "      <td>105008.31</td>\n",
       "    </tr>\n",
       "    <tr>\n",
       "      <th>28</th>\n",
       "      <td>66051.52</td>\n",
       "      <td>182645.56</td>\n",
       "      <td>118148.20</td>\n",
       "      <td>Florida</td>\n",
       "      <td>103282.38</td>\n",
       "    </tr>\n",
       "    <tr>\n",
       "      <th>29</th>\n",
       "      <td>65605.48</td>\n",
       "      <td>153032.06</td>\n",
       "      <td>107138.38</td>\n",
       "      <td>New York</td>\n",
       "      <td>101004.64</td>\n",
       "    </tr>\n",
       "    <tr>\n",
       "      <th>30</th>\n",
       "      <td>61994.48</td>\n",
       "      <td>115641.28</td>\n",
       "      <td>91131.24</td>\n",
       "      <td>Florida</td>\n",
       "      <td>99937.59</td>\n",
       "    </tr>\n",
       "    <tr>\n",
       "      <th>31</th>\n",
       "      <td>61136.38</td>\n",
       "      <td>152701.92</td>\n",
       "      <td>88218.23</td>\n",
       "      <td>New York</td>\n",
       "      <td>97483.56</td>\n",
       "    </tr>\n",
       "    <tr>\n",
       "      <th>32</th>\n",
       "      <td>63408.86</td>\n",
       "      <td>129219.61</td>\n",
       "      <td>46085.25</td>\n",
       "      <td>California</td>\n",
       "      <td>97427.84</td>\n",
       "    </tr>\n",
       "    <tr>\n",
       "      <th>33</th>\n",
       "      <td>55493.95</td>\n",
       "      <td>103057.49</td>\n",
       "      <td>214634.81</td>\n",
       "      <td>Florida</td>\n",
       "      <td>96778.92</td>\n",
       "    </tr>\n",
       "    <tr>\n",
       "      <th>34</th>\n",
       "      <td>46426.07</td>\n",
       "      <td>157693.92</td>\n",
       "      <td>210797.67</td>\n",
       "      <td>California</td>\n",
       "      <td>96712.80</td>\n",
       "    </tr>\n",
       "    <tr>\n",
       "      <th>35</th>\n",
       "      <td>46014.02</td>\n",
       "      <td>85047.44</td>\n",
       "      <td>205517.64</td>\n",
       "      <td>New York</td>\n",
       "      <td>96479.51</td>\n",
       "    </tr>\n",
       "    <tr>\n",
       "      <th>36</th>\n",
       "      <td>28663.76</td>\n",
       "      <td>127056.21</td>\n",
       "      <td>201126.82</td>\n",
       "      <td>Florida</td>\n",
       "      <td>90708.19</td>\n",
       "    </tr>\n",
       "    <tr>\n",
       "      <th>37</th>\n",
       "      <td>44069.95</td>\n",
       "      <td>51283.14</td>\n",
       "      <td>197029.42</td>\n",
       "      <td>California</td>\n",
       "      <td>89949.14</td>\n",
       "    </tr>\n",
       "    <tr>\n",
       "      <th>38</th>\n",
       "      <td>20229.59</td>\n",
       "      <td>65947.93</td>\n",
       "      <td>185265.10</td>\n",
       "      <td>New York</td>\n",
       "      <td>81229.06</td>\n",
       "    </tr>\n",
       "    <tr>\n",
       "      <th>39</th>\n",
       "      <td>38558.51</td>\n",
       "      <td>82982.09</td>\n",
       "      <td>174999.30</td>\n",
       "      <td>California</td>\n",
       "      <td>81005.76</td>\n",
       "    </tr>\n",
       "    <tr>\n",
       "      <th>40</th>\n",
       "      <td>28754.33</td>\n",
       "      <td>118546.05</td>\n",
       "      <td>172795.67</td>\n",
       "      <td>California</td>\n",
       "      <td>78239.91</td>\n",
       "    </tr>\n",
       "    <tr>\n",
       "      <th>41</th>\n",
       "      <td>27892.92</td>\n",
       "      <td>84710.77</td>\n",
       "      <td>164470.71</td>\n",
       "      <td>Florida</td>\n",
       "      <td>77798.83</td>\n",
       "    </tr>\n",
       "    <tr>\n",
       "      <th>42</th>\n",
       "      <td>23640.93</td>\n",
       "      <td>96189.63</td>\n",
       "      <td>148001.11</td>\n",
       "      <td>California</td>\n",
       "      <td>71498.49</td>\n",
       "    </tr>\n",
       "    <tr>\n",
       "      <th>43</th>\n",
       "      <td>15505.73</td>\n",
       "      <td>127382.30</td>\n",
       "      <td>35534.17</td>\n",
       "      <td>New York</td>\n",
       "      <td>69758.98</td>\n",
       "    </tr>\n",
       "    <tr>\n",
       "      <th>44</th>\n",
       "      <td>22177.74</td>\n",
       "      <td>154806.14</td>\n",
       "      <td>28334.72</td>\n",
       "      <td>California</td>\n",
       "      <td>65200.33</td>\n",
       "    </tr>\n",
       "    <tr>\n",
       "      <th>45</th>\n",
       "      <td>1000.23</td>\n",
       "      <td>124153.04</td>\n",
       "      <td>1903.93</td>\n",
       "      <td>New York</td>\n",
       "      <td>64926.08</td>\n",
       "    </tr>\n",
       "    <tr>\n",
       "      <th>46</th>\n",
       "      <td>1315.46</td>\n",
       "      <td>115816.21</td>\n",
       "      <td>297114.46</td>\n",
       "      <td>Florida</td>\n",
       "      <td>49490.75</td>\n",
       "    </tr>\n",
       "    <tr>\n",
       "      <th>47</th>\n",
       "      <td>0.00</td>\n",
       "      <td>135426.92</td>\n",
       "      <td>0.00</td>\n",
       "      <td>California</td>\n",
       "      <td>42559.73</td>\n",
       "    </tr>\n",
       "    <tr>\n",
       "      <th>48</th>\n",
       "      <td>542.05</td>\n",
       "      <td>51743.15</td>\n",
       "      <td>0.00</td>\n",
       "      <td>New York</td>\n",
       "      <td>35673.41</td>\n",
       "    </tr>\n",
       "    <tr>\n",
       "      <th>49</th>\n",
       "      <td>0.00</td>\n",
       "      <td>116983.80</td>\n",
       "      <td>45173.06</td>\n",
       "      <td>California</td>\n",
       "      <td>14681.40</td>\n",
       "    </tr>\n",
       "  </tbody>\n",
       "</table>\n",
       "</div>"
      ],
      "text/plain": [
       "    R&D Spend  Administration  Marketing Spend       State     Profit\n",
       "0   165349.20       136897.80        471784.10    New York  192261.83\n",
       "1   162597.70       151377.59        443898.53  California  191792.06\n",
       "2   153441.51       101145.55        407934.54     Florida  191050.39\n",
       "3   144372.41       118671.85        383199.62    New York  182901.99\n",
       "4   142107.34        91391.77        366168.42     Florida  166187.94\n",
       "5   131876.90        99814.71        362861.36    New York  156991.12\n",
       "6   134615.46       147198.87        127716.82  California  156122.51\n",
       "7   130298.13       145530.06        323876.68     Florida  155752.60\n",
       "8   120542.52       148718.95        311613.29    New York  152211.77\n",
       "9   123334.88       108679.17        304981.62  California  149759.96\n",
       "10  101913.08       110594.11        229160.95     Florida  146121.95\n",
       "11  100671.96        91790.61        249744.55  California  144259.40\n",
       "12   93863.75       127320.38        249839.44     Florida  141585.52\n",
       "13   91992.39       135495.07        252664.93  California  134307.35\n",
       "14  119943.24       156547.42        256512.92     Florida  132602.65\n",
       "15  114523.61       122616.84        261776.23    New York  129917.04\n",
       "16   78013.11       121597.55        264346.06  California  126992.93\n",
       "17   94657.16       145077.58        282574.31    New York  125370.37\n",
       "18   91749.16       114175.79        294919.57     Florida  124266.90\n",
       "19   86419.70       153514.11             0.00    New York  122776.86\n",
       "20   76253.86       113867.30        298664.47  California  118474.03\n",
       "21   78389.47       153773.43        299737.29    New York  111313.02\n",
       "22   73994.56       122782.75        303319.26     Florida  110352.25\n",
       "23   67532.53       105751.03        304768.73     Florida  108733.99\n",
       "24   77044.01        99281.34        140574.81    New York  108552.04\n",
       "25   64664.71       139553.16        137962.62  California  107404.34\n",
       "26   75328.87       144135.98        134050.07     Florida  105733.54\n",
       "27   72107.60       127864.55        353183.81    New York  105008.31\n",
       "28   66051.52       182645.56        118148.20     Florida  103282.38\n",
       "29   65605.48       153032.06        107138.38    New York  101004.64\n",
       "30   61994.48       115641.28         91131.24     Florida   99937.59\n",
       "31   61136.38       152701.92         88218.23    New York   97483.56\n",
       "32   63408.86       129219.61         46085.25  California   97427.84\n",
       "33   55493.95       103057.49        214634.81     Florida   96778.92\n",
       "34   46426.07       157693.92        210797.67  California   96712.80\n",
       "35   46014.02        85047.44        205517.64    New York   96479.51\n",
       "36   28663.76       127056.21        201126.82     Florida   90708.19\n",
       "37   44069.95        51283.14        197029.42  California   89949.14\n",
       "38   20229.59        65947.93        185265.10    New York   81229.06\n",
       "39   38558.51        82982.09        174999.30  California   81005.76\n",
       "40   28754.33       118546.05        172795.67  California   78239.91\n",
       "41   27892.92        84710.77        164470.71     Florida   77798.83\n",
       "42   23640.93        96189.63        148001.11  California   71498.49\n",
       "43   15505.73       127382.30         35534.17    New York   69758.98\n",
       "44   22177.74       154806.14         28334.72  California   65200.33\n",
       "45    1000.23       124153.04          1903.93    New York   64926.08\n",
       "46    1315.46       115816.21        297114.46     Florida   49490.75\n",
       "47       0.00       135426.92             0.00  California   42559.73\n",
       "48     542.05        51743.15             0.00    New York   35673.41\n",
       "49       0.00       116983.80         45173.06  California   14681.40"
      ]
     },
     "execution_count": 7,
     "metadata": {},
     "output_type": "execute_result"
    }
   ],
   "source": [
    "startupData"
   ]
  },
  {
   "cell_type": "code",
   "execution_count": 6,
   "metadata": {},
   "outputs": [
    {
     "name": "stdout",
     "output_type": "stream",
     "text": [
      "Null Hypothesis (H0) : R&D Spend is not Normal Distribution\n",
      "Confidence Level : 81.99481666088104 %\n"
     ]
    }
   ],
   "source": [
    "from scipy.stats import shapiro\n",
    "stat,p = shapiro(startupData['R&D Spend'])\n",
    "if p <= 0.05:\n",
    "    print(\"Alternate Hypothesis (H1): R&D Spend is Normally distributed\")\n",
    "else:\n",
    "    print(\"Null Hypothesis (H0) : R&D Spend is not Normal Distribution\")\n",
    "print(\"Confidence Level : {} %\".format(((1- p)*100)))"
   ]
  },
  {
   "cell_type": "code",
   "execution_count": 29,
   "metadata": {},
   "outputs": [
    {
     "name": "stdout",
     "output_type": "stream",
     "text": [
      "AndersonResult(statistic=0.3544189646662659, critical_values=array([0.538, 0.613, 0.736, 0.858, 1.021]), significance_level=array([15. , 10. ,  5. ,  2.5,  1. ]))\n"
     ]
    }
   ],
   "source": [
    "from scipy.stats import anderson\n",
    "stat = anderson(startupData['R&D Spend'])\n",
    "print(stat)"
   ]
  },
  {
   "cell_type": "code",
   "execution_count": 30,
   "metadata": {},
   "outputs": [
    {
     "name": "stdout",
     "output_type": "stream",
     "text": [
      "Null Hypothesis (H0) : R&D Spend is not Normal Distribution\n",
      "Confidence Level : 71.75346439553687 %\n"
     ]
    }
   ],
   "source": [
    "from scipy.stats import normaltest\n",
    "stat,p = normaltest(startupData['R&D Spend'])\n",
    "if p <= 0.05:\n",
    "    print(\"Alternate Hypothesis (H1): R&D Spend is Normally distributed\")\n",
    "else:\n",
    "    print(\"Null Hypothesis (H0) : R&D Spend is not Normal Distribution\")\n",
    "print(\"Confidence Level : {} %\".format(((1- p)*100)))"
   ]
  },
  {
   "cell_type": "code",
   "execution_count": 32,
   "metadata": {},
   "outputs": [
    {
     "name": "stdout",
     "output_type": "stream",
     "text": [
      "Null Hypothesis (H0) : R&D Spend is not Normal Distribution\n",
      "Confidence Level : 76.33925676345825 %\n"
     ]
    }
   ],
   "source": [
    "from scipy.stats import shapiro\n",
    "stat,p = shapiro(startupData['Administration'])\n",
    "if p <= 0.05:\n",
    "    print(\"Alternate Hypothesis (H1): R&D Spend is Normally distributed\")\n",
    "else:\n",
    "    print(\"Null Hypothesis (H0) : R&D Spend is not Normal Distribution\")\n",
    "print(\"Confidence Level : {} %\".format(((1- p)*100)))"
   ]
  },
  {
   "cell_type": "code",
   "execution_count": 33,
   "metadata": {},
   "outputs": [
    {
     "name": "stdout",
     "output_type": "stream",
     "text": [
      "Null Hypothesis (H0) : R&D Spend is not Normal Distribution\n",
      "Confidence Level : 65.49227833747864 %\n"
     ]
    }
   ],
   "source": [
    "from scipy.stats import shapiro\n",
    "stat,p = shapiro(startupData['Marketing Spend'])\n",
    "if p <= 0.05:\n",
    "    print(\"Alternate Hypothesis (H1): R&D Spend is Normally distributed\")\n",
    "else:\n",
    "    print(\"Null Hypothesis (H0) : R&D Spend is not Normal Distribution\")\n",
    "print(\"Confidence Level : {} %\".format(((1- p)*100)))"
   ]
  },
  {
   "cell_type": "markdown",
   "metadata": {},
   "source": [
    "# Non-parametric Test"
   ]
  },
  {
   "cell_type": "code",
   "execution_count": 10,
   "metadata": {},
   "outputs": [
    {
     "name": "stdout",
     "output_type": "stream",
     "text": [
      "Alternate Hypothesis (H1) --> Columns are unequal(different)\n",
      "Confidence Level : 99.99996458891725 %\n"
     ]
    }
   ],
   "source": [
    "# Wilcoxon Test\n",
    "from scipy.stats import wilcoxon\n",
    "stat,p = wilcoxon(startupData['R&D Spend'], startupData['Administration'])\n",
    "if p <= 0.05:\n",
    "    print(\"Alternate Hypothesis (H1) --> Columns are unequal(different)\")\n",
    "else:\n",
    "    print(\"Null Hypothesis (H0) --> Columns are equal\")\n",
    "print(\"Confidence Level : {} %\".format(((1- p)*100)))"
   ]
  },
  {
   "cell_type": "code",
   "execution_count": 35,
   "metadata": {},
   "outputs": [
    {
     "name": "stdout",
     "output_type": "stream",
     "text": [
      "Alternate Hypothesis (H1) --> Columns are unequal(different)\n",
      "Confidence Level : 99.99998810170587 %\n"
     ]
    }
   ],
   "source": [
    "#Mann-Whitney U test\n",
    "from scipy.stats import mannwhitneyu\n",
    "stat,p = mannwhitneyu(startupData['R&D Spend'], startupData['Administration'])\n",
    "if p <= 0.05:\n",
    "    print(\"Alternate Hypothesis (H1) --> Columns are unequal(different)\")\n",
    "else:\n",
    "    print(\"Null Hypothesis (H0) --> Columns are equal\")\n",
    "print(\"Confidence Level : {} %\".format(((1- p)*100)))"
   ]
  },
  {
   "cell_type": "code",
   "execution_count": 11,
   "metadata": {},
   "outputs": [
    {
     "name": "stdout",
     "output_type": "stream",
     "text": [
      "Alternate Hypothesis (H1) --> Columns are unequal(different)\n",
      "Confidence Level : 99.99999999677547 %\n",
      "48.315296761518745\n"
     ]
    }
   ],
   "source": [
    "#Kruskal-Wallis H-test\n",
    "from scipy.stats import kruskal\n",
    "stat,p = kruskal(startupData['R&D Spend'], startupData['Administration'], startupData['Marketing Spend'])\n",
    "if p <= 0.05:\n",
    "    print(\"Alternate Hypothesis (H1) --> Columns are unequal(different)\")\n",
    "else:\n",
    "    print(\"Null Hypothesis (H0) --> Columns are equal\")\n",
    "print(\"Confidence Level : {} %\".format(((1- p)*100)))\n",
    "print(stat)"
   ]
  },
  {
   "cell_type": "code",
   "execution_count": 5,
   "metadata": {},
   "outputs": [
    {
     "name": "stdout",
     "output_type": "stream",
     "text": [
      "Alternate Hypothesis (H1) --> Columns are unequal(different)\n",
      "Confidence Level : 99.9999999961288 %\n"
     ]
    }
   ],
   "source": [
    "#Friedman Test\n",
    "from scipy.stats import friedmanchisquare\n",
    "stat,p = friedmanchisquare(startupData['R&D Spend'], startupData['Administration'], startupData['Marketing Spend'])\n",
    "if p <= 0.05:\n",
    "    print(\"Alternate Hypothesis (H1) --> Columns are unequal(different)\")\n",
    "else:\n",
    "    print(\"Null Hypothesis (H0) --> Columns are equal\")\n",
    "print(\"Confidence Level : {} %\".format(((1- p)*100)))"
   ]
  },
  {
   "cell_type": "markdown",
   "metadata": {},
   "source": [
    "# Parametric Test\n",
    "Note: The below code is for making you understand how to implement parametric test. "
   ]
  },
  {
   "cell_type": "code",
   "execution_count": 40,
   "metadata": {},
   "outputs": [
    {
     "name": "stdout",
     "output_type": "stream",
     "text": [
      "Alternate Hypothesis (H1) --> Columns are unequal(different)\n",
      "Confidence Level : 99.9999989883414 %\n"
     ]
    }
   ],
   "source": [
    "#Student t-test\n",
    "from scipy.stats import ttest_ind\n",
    "stat,p = ttest_ind(startupData['R&D Spend'], startupData['Administration'])\n",
    "if p <= 0.05:\n",
    "    print(\"Alternate Hypothesis (H1) --> Columns are unequal(different)\")\n",
    "else:\n",
    "    print(\"Null Hypothesis (H0) --> Columns are equal\")\n",
    "print(\"Confidence Level : {} %\".format(((1- p)*100)))"
   ]
  },
  {
   "cell_type": "code",
   "execution_count": 41,
   "metadata": {},
   "outputs": [
    {
     "name": "stdout",
     "output_type": "stream",
     "text": [
      "Alternate Hypothesis (H1) --> Columns are unequal(different)\n",
      "Confidence Level : 99.99999948019163 %\n"
     ]
    }
   ],
   "source": [
    "#Paired Student t-test\n",
    "from scipy.stats import ttest_rel\n",
    "stat,p = ttest_rel(startupData['R&D Spend'], startupData['Administration'])\n",
    "if p <= 0.05:\n",
    "    print(\"Alternate Hypothesis (H1) --> Columns are unequal(different)\")\n",
    "else:\n",
    "    print(\"Null Hypothesis (H0) --> Columns are equal\")\n",
    "print(\"Confidence Level : {} %\".format(((1- p)*100)))"
   ]
  },
  {
   "cell_type": "code",
   "execution_count": 7,
   "metadata": {},
   "outputs": [
    {
     "name": "stdout",
     "output_type": "stream",
     "text": [
      "Alternate Hypothesis (H1) --> Columns are unequal(different)\n",
      "Confidence Level : 99.99999999999922 %\n"
     ]
    }
   ],
   "source": [
    "#ANOVA\n",
    "from scipy.stats import f_oneway\n",
    "stat,p = f_oneway(startupData['R&D Spend'], startupData['Administration'], startupData['Marketing Spend'])\n",
    "if p <= 0.05:\n",
    "    print(\"Alternate Hypothesis (H1) --> Columns are unequal(different)\")\n",
    "else:\n",
    "    print(\"Null Hypothesis (H0) --> Columns are equal\")\n",
    "print(\"Confidence Level : {} %\".format(((1- p)*100)))"
   ]
  },
  {
   "cell_type": "code",
   "execution_count": null,
   "metadata": {},
   "outputs": [],
   "source": []
  }
 ],
 "metadata": {
  "kernelspec": {
   "display_name": "Python 3",
   "language": "python",
   "name": "python3"
  },
  "language_info": {
   "codemirror_mode": {
    "name": "ipython",
    "version": 3
   },
   "file_extension": ".py",
   "mimetype": "text/x-python",
   "name": "python",
   "nbconvert_exporter": "python",
   "pygments_lexer": "ipython3",
   "version": "3.7.3"
  }
 },
 "nbformat": 4,
 "nbformat_minor": 2
}
